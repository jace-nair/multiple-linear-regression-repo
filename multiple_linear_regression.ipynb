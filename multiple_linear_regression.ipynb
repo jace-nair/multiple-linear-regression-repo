{
 "cells": [
  {
   "cell_type": "markdown",
   "metadata": {},
   "source": [
    "### 1. Problem Formulation"
   ]
  },
  {
   "cell_type": "markdown",
   "metadata": {},
   "source": [
    "From the company's monthly expenses and profit report, investigate:\n",
    "\n",
    "1) How R&D, Marketing, Administration impact monthly profit?\n",
    "\n",
    "2) Which feature impacts Profit the most?\n",
    "\n",
    "2) Predit profit on future R&D, Marketing and Administration spending.\n",
    "\n",
    "So how does business factors / features (R&D Spending, Marketing Spending & Administration spending) affect the response varible (Profit)."
   ]
  },
  {
   "cell_type": "markdown",
   "metadata": {},
   "source": [
    "### 2. Libraries / Packages"
   ]
  },
  {
   "cell_type": "code",
   "execution_count": 1,
   "metadata": {},
   "outputs": [],
   "source": [
    "import os\n",
    "import pandas as pd\n",
    "import numpy as np\n",
    "import matplotlib.pyplot as plt\n",
    "import seaborn as sns\n",
    "from sklearn.linear_model import LinearRegression\n",
    "from sklearn import preprocessing\n",
    "from sklearn.preprocessing import StandardScaler\n",
    "from sklearn.model_selection import train_test_split\n",
    "from sklearn.feature_selection import RFE \n",
    "from sklearn.metrics import r2_score, mean_squared_error, mean_absolute_error\n",
    "\n",
    "%matplotlib inline"
   ]
  },
  {
   "cell_type": "markdown",
   "metadata": {},
   "source": [
    "### 3. Data Preprocessing"
   ]
  },
  {
   "cell_type": "code",
   "execution_count": 2,
   "metadata": {},
   "outputs": [],
   "source": [
    "# Load the dataset and place it into a Dataframe\n",
    "\n",
    "# If you want to load csv without DafaFrame including an index column\n",
    "# df = pd.read_csv('1000_Companies.csv', index_col = 0)\n",
    "\n",
    "df = pd.read_csv('company_expenses_profit.csv')"
   ]
  },
  {
   "cell_type": "markdown",
   "metadata": {},
   "source": [
    "#### a) Exploratory Data Analysis"
   ]
  },
  {
   "cell_type": "markdown",
   "metadata": {},
   "source": [
    "##### Number of observations (rows) and features (columns)"
   ]
  },
  {
   "cell_type": "code",
   "execution_count": 3,
   "metadata": {},
   "outputs": [
    {
     "data": {
      "text/html": [
       "<div>\n",
       "<style scoped>\n",
       "    .dataframe tbody tr th:only-of-type {\n",
       "        vertical-align: middle;\n",
       "    }\n",
       "\n",
       "    .dataframe tbody tr th {\n",
       "        vertical-align: top;\n",
       "    }\n",
       "\n",
       "    .dataframe thead th {\n",
       "        text-align: right;\n",
       "    }\n",
       "</style>\n",
       "<table border=\"1\" class=\"dataframe\">\n",
       "  <thead>\n",
       "    <tr style=\"text-align: right;\">\n",
       "      <th></th>\n",
       "      <th>R&amp;D Spend</th>\n",
       "      <th>Administration</th>\n",
       "      <th>Marketing Spend</th>\n",
       "      <th>State</th>\n",
       "      <th>Profit</th>\n",
       "    </tr>\n",
       "  </thead>\n",
       "  <tbody>\n",
       "    <tr>\n",
       "      <th>0</th>\n",
       "      <td>165349.20</td>\n",
       "      <td>136897.80</td>\n",
       "      <td>471784.10</td>\n",
       "      <td>New York</td>\n",
       "      <td>192261.83</td>\n",
       "    </tr>\n",
       "    <tr>\n",
       "      <th>1</th>\n",
       "      <td>162597.70</td>\n",
       "      <td>151377.59</td>\n",
       "      <td>443898.53</td>\n",
       "      <td>California</td>\n",
       "      <td>191792.06</td>\n",
       "    </tr>\n",
       "    <tr>\n",
       "      <th>2</th>\n",
       "      <td>153441.51</td>\n",
       "      <td>101145.55</td>\n",
       "      <td>407934.54</td>\n",
       "      <td>Florida</td>\n",
       "      <td>191050.39</td>\n",
       "    </tr>\n",
       "    <tr>\n",
       "      <th>3</th>\n",
       "      <td>144372.41</td>\n",
       "      <td>118671.85</td>\n",
       "      <td>383199.62</td>\n",
       "      <td>New York</td>\n",
       "      <td>182901.99</td>\n",
       "    </tr>\n",
       "    <tr>\n",
       "      <th>4</th>\n",
       "      <td>142107.34</td>\n",
       "      <td>91391.77</td>\n",
       "      <td>366168.42</td>\n",
       "      <td>Florida</td>\n",
       "      <td>166187.94</td>\n",
       "    </tr>\n",
       "  </tbody>\n",
       "</table>\n",
       "</div>"
      ],
      "text/plain": [
       "   R&D Spend  Administration  Marketing Spend       State     Profit\n",
       "0  165349.20       136897.80        471784.10    New York  192261.83\n",
       "1  162597.70       151377.59        443898.53  California  191792.06\n",
       "2  153441.51       101145.55        407934.54     Florida  191050.39\n",
       "3  144372.41       118671.85        383199.62    New York  182901.99\n",
       "4  142107.34        91391.77        366168.42     Florida  166187.94"
      ]
     },
     "execution_count": 3,
     "metadata": {},
     "output_type": "execute_result"
    }
   ],
   "source": [
    "# Check the top 5 rows.\n",
    "df.head(5)"
   ]
  },
  {
   "cell_type": "code",
   "execution_count": 4,
   "metadata": {},
   "outputs": [
    {
     "data": {
      "text/html": [
       "<div>\n",
       "<style scoped>\n",
       "    .dataframe tbody tr th:only-of-type {\n",
       "        vertical-align: middle;\n",
       "    }\n",
       "\n",
       "    .dataframe tbody tr th {\n",
       "        vertical-align: top;\n",
       "    }\n",
       "\n",
       "    .dataframe thead th {\n",
       "        text-align: right;\n",
       "    }\n",
       "</style>\n",
       "<table border=\"1\" class=\"dataframe\">\n",
       "  <thead>\n",
       "    <tr style=\"text-align: right;\">\n",
       "      <th></th>\n",
       "      <th>R&amp;D Spend</th>\n",
       "      <th>Administration</th>\n",
       "      <th>Marketing Spend</th>\n",
       "      <th>State</th>\n",
       "      <th>Profit</th>\n",
       "    </tr>\n",
       "  </thead>\n",
       "  <tbody>\n",
       "    <tr>\n",
       "      <th>995</th>\n",
       "      <td>54135.00</td>\n",
       "      <td>118451.999</td>\n",
       "      <td>173232.6695</td>\n",
       "      <td>California</td>\n",
       "      <td>95279.96251</td>\n",
       "    </tr>\n",
       "    <tr>\n",
       "      <th>996</th>\n",
       "      <td>134970.00</td>\n",
       "      <td>130390.080</td>\n",
       "      <td>329204.0228</td>\n",
       "      <td>California</td>\n",
       "      <td>164336.60550</td>\n",
       "    </tr>\n",
       "    <tr>\n",
       "      <th>997</th>\n",
       "      <td>100275.47</td>\n",
       "      <td>241926.310</td>\n",
       "      <td>227142.8200</td>\n",
       "      <td>California</td>\n",
       "      <td>413956.48000</td>\n",
       "    </tr>\n",
       "    <tr>\n",
       "      <th>998</th>\n",
       "      <td>128456.23</td>\n",
       "      <td>321652.140</td>\n",
       "      <td>281692.3200</td>\n",
       "      <td>California</td>\n",
       "      <td>333962.19000</td>\n",
       "    </tr>\n",
       "    <tr>\n",
       "      <th>999</th>\n",
       "      <td>161181.72</td>\n",
       "      <td>270939.860</td>\n",
       "      <td>295442.1700</td>\n",
       "      <td>New York</td>\n",
       "      <td>476485.43000</td>\n",
       "    </tr>\n",
       "  </tbody>\n",
       "</table>\n",
       "</div>"
      ],
      "text/plain": [
       "     R&D Spend  Administration  Marketing Spend       State        Profit\n",
       "995   54135.00      118451.999      173232.6695  California   95279.96251\n",
       "996  134970.00      130390.080      329204.0228  California  164336.60550\n",
       "997  100275.47      241926.310      227142.8200  California  413956.48000\n",
       "998  128456.23      321652.140      281692.3200  California  333962.19000\n",
       "999  161181.72      270939.860      295442.1700    New York  476485.43000"
      ]
     },
     "execution_count": 4,
     "metadata": {},
     "output_type": "execute_result"
    }
   ],
   "source": [
    "# Check the bottom 5 rows.\n",
    "df.tail(5)"
   ]
  },
  {
   "cell_type": "code",
   "execution_count": 5,
   "metadata": {},
   "outputs": [
    {
     "name": "stdout",
     "output_type": "stream",
     "text": [
      "(1000, 5)\n"
     ]
    }
   ],
   "source": [
    "# Print the shape\n",
    "print(df.shape)"
   ]
  },
  {
   "cell_type": "markdown",
   "metadata": {},
   "source": [
    "##### Number of elements (data values) in each feature"
   ]
  },
  {
   "cell_type": "code",
   "execution_count": 6,
   "metadata": {},
   "outputs": [
    {
     "name": "stdout",
     "output_type": "stream",
     "text": [
      "<class 'pandas.core.frame.DataFrame'>\n",
      "RangeIndex: 1000 entries, 0 to 999\n",
      "Data columns (total 5 columns):\n",
      " #   Column           Non-Null Count  Dtype  \n",
      "---  ------           --------------  -----  \n",
      " 0   R&D Spend        997 non-null    float64\n",
      " 1   Administration   997 non-null    float64\n",
      " 2   Marketing Spend  997 non-null    float64\n",
      " 3   State            1000 non-null   object \n",
      " 4   Profit           997 non-null    float64\n",
      "dtypes: float64(4), object(1)\n",
      "memory usage: 39.2+ KB\n"
     ]
    }
   ],
   "source": [
    "# Data info\n",
    "df.info()"
   ]
  },
  {
   "cell_type": "markdown",
   "metadata": {},
   "source": [
    "##### Investigate string values in the numerical columns and replace it with zeros"
   ]
  },
  {
   "cell_type": "code",
   "execution_count": 58,
   "metadata": {},
   "outputs": [],
   "source": [
    "# isnull() method cannot find string values.\n",
    "#Check the csv file for any string values other than NaN or NA"
   ]
  },
  {
   "cell_type": "markdown",
   "metadata": {},
   "source": [
    "##### Investigate null data values in the dataset and replace it with zeros"
   ]
  },
  {
   "cell_type": "code",
   "execution_count": 7,
   "metadata": {
    "scrolled": true
   },
   "outputs": [
    {
     "data": {
      "text/plain": [
       "R&D Spend          3\n",
       "Administration     3\n",
       "Marketing Spend    3\n",
       "State              0\n",
       "Profit             3\n",
       "dtype: int64"
      ]
     },
     "execution_count": 7,
     "metadata": {},
     "output_type": "execute_result"
    }
   ],
   "source": [
    "# Null values = missing values or invalid values like Not a Number (NaN).\n",
    "df.isnull().sum()"
   ]
  },
  {
   "cell_type": "code",
   "execution_count": null,
   "metadata": {},
   "outputs": [],
   "source": [
    "# Individually investigate these rows with null values to decide whether to\n",
    "# to keep it or edit it.\n",
    "# Shows all rows with NaN in 'R&D Spend'\n",
    "df[df['R&D Spend'].isnull()] "
   ]
  },
  {
   "cell_type": "code",
   "execution_count": 8,
   "metadata": {
    "scrolled": true
   },
   "outputs": [],
   "source": [
    "# If there's Null value in any column, replace it with zeros.\n",
    "df = df.fillna(0)"
   ]
  },
  {
   "cell_type": "code",
   "execution_count": 9,
   "metadata": {},
   "outputs": [
    {
     "data": {
      "text/plain": [
       "R&D Spend          0\n",
       "Administration     0\n",
       "Marketing Spend    0\n",
       "State              0\n",
       "Profit             0\n",
       "dtype: int64"
      ]
     },
     "execution_count": 9,
     "metadata": {},
     "output_type": "execute_result"
    }
   ],
   "source": [
    "# Check weather Null values have been replaced with zeroes.\n",
    "df.isnull().sum()"
   ]
  },
  {
   "cell_type": "markdown",
   "metadata": {},
   "source": [
    "##### Investigate zeroes in the dataset ane replace it with mean, mode or median"
   ]
  },
  {
   "cell_type": "code",
   "execution_count": 10,
   "metadata": {},
   "outputs": [
    {
     "name": "stdout",
     "output_type": "stream",
     "text": [
      "Count of zeros in column  R&D Spend  is :  5\n",
      "Count of zeros in column  Administration  is :  3\n",
      "Count of zeros in column  Marketing Spend  is :  6\n",
      "Count of zeros in column  State  is :  0\n",
      "Count of zeros in column  Profit  is :  3\n"
     ]
    }
   ],
   "source": [
    "# Investigate whether zeroes in the dataset could skew modelling. \n",
    "# Zeroes in the column can be replaced by mean, rolling mean, mode, median of\n",
    "# the respective column.\n",
    "\n",
    "# Count number of zeros in all columns of Dataframe\n",
    "for column_name in df.columns:\n",
    "    column = df[column_name]\n",
    "    # Get the count of Zeros in column \n",
    "    count = (column == 0).sum()\n",
    "    print('Count of zeros in column ', column_name, ' is : ', count)"
   ]
  },
  {
   "cell_type": "code",
   "execution_count": 11,
   "metadata": {},
   "outputs": [],
   "source": [
    "# Replace each zeroes in columns with the mean value of the respectiv column\n",
    "df=df.mask(df==0).fillna(df.mean())"
   ]
  },
  {
   "cell_type": "code",
   "execution_count": 12,
   "metadata": {},
   "outputs": [
    {
     "name": "stdout",
     "output_type": "stream",
     "text": [
      "Count of zeros in column  R&D Spend  is :  0\n",
      "Count of zeros in column  Administration  is :  0\n",
      "Count of zeros in column  Marketing Spend  is :  0\n",
      "Count of zeros in column  State  is :  0\n",
      "Count of zeros in column  Profit  is :  0\n"
     ]
    }
   ],
   "source": [
    "# Check weather the zeroes in the columns have been replaced?\n",
    "\n",
    "# Count number of zeros in all columns of Dataframe\n",
    "for column_name in df.columns:\n",
    "    column = df[column_name]\n",
    "    # Get the count of Zeros in column \n",
    "    count = (column == 0).sum()\n",
    "    print('Count of zeros in column ', column_name, ' is : ', count)"
   ]
  },
  {
   "cell_type": "markdown",
   "metadata": {},
   "source": [
    "##### Investigate unique values in the dataset"
   ]
  },
  {
   "cell_type": "code",
   "execution_count": 13,
   "metadata": {},
   "outputs": [
    {
     "name": "stdout",
     "output_type": "stream",
     "text": [
      "The number of unique values for features R&D Spend :994\n",
      "The number of unique values for features Administration :996\n",
      "The number of unique values for features Marketing Spend :993\n",
      "The number of unique values for features State :3 -- ['California' 'Florida' 'New York']\n",
      "The number of unique values for features Profit :996\n"
     ]
    }
   ],
   "source": [
    "# Query goes through all values in each column, then counts them and then\n",
    "# lists them.\n",
    "\n",
    "for column in df:\n",
    "    unique_values = np.unique(df[column])\n",
    "    count_unique_values = len(unique_values)\n",
    "    if count_unique_values < 10:\n",
    "        print('The number of unique values for features {} :{} -- {}'.format(column, count_unique_values, unique_values))\n",
    "    else:\n",
    "        print('The number of unique values for features {} :{}'.format(column, count_unique_values))"
   ]
  },
  {
   "cell_type": "markdown",
   "metadata": {},
   "source": [
    "##### Investigate distribution and relationships"
   ]
  },
  {
   "cell_type": "code",
   "execution_count": 14,
   "metadata": {},
   "outputs": [
    {
     "data": {
      "text/plain": [
       "<seaborn.axisgrid.PairGrid at 0x20eef8bf8b0>"
      ]
     },
     "execution_count": 14,
     "metadata": {},
     "output_type": "execute_result"
    },
    {
     "data": {
      "image/png": "[encoded data removed]",
      "text/plain": [
       "<Figure size 720x720 with 20 Axes>"
      ]
     },
     "metadata": {
      "needs_background": "light"
     },
     "output_type": "display_data"
    }
   ],
   "source": [
    "# Visualize the ALL relationships between datasets passing the whole DataFrame.\n",
    "# Note: For big data sets, filter the column first.\n",
    "sns.pairplot(df)"
   ]
  },
  {
   "cell_type": "code",
   "execution_count": 16,
   "metadata": {
    "scrolled": false
   },
   "outputs": [
    {
     "data": {
      "text/plain": [
       "<AxesSubplot:ylabel='Frequency'>"
      ]
     },
     "execution_count": 16,
     "metadata": {},
     "output_type": "execute_result"
    },
    {
     "data": {
      "image/png": "[encoded data removed]",
      "text/plain": [
       "<Figure size 720x360 with 1 Axes>"
      ]
     },
     "metadata": {
      "needs_background": "light"
     },
     "output_type": "display_data"
    }
   ],
   "source": [
    "# Visualize histogram plot for the Features (X) - R&D Spend\n",
    "plt.figure(figsize = (10, 5))\n",
    "df['R&D Spend'].plot(kind='hist')"
   ]
  },
  {
   "cell_type": "code",
   "execution_count": 15,
   "metadata": {},
   "outputs": [
    {
     "data": {
      "text/plain": [
       "<AxesSubplot:ylabel='Frequency'>"
      ]
     },
     "execution_count": 15,
     "metadata": {},
     "output_type": "execute_result"
    },
    {
     "data": {
      "image/png": "[encoded data removed]",
      "text/plain": [
       "<Figure size 720x360 with 1 Axes>"
      ]
     },
     "metadata": {
      "needs_background": "light"
     },
     "output_type": "display_data"
    }
   ],
   "source": [
    "# Visualize histogram plot for the Features (X) - Marketing Spend\n",
    "plt.figure(figsize = (10, 5))\n",
    "df['Marketing Spend'].plot(kind='hist')"
   ]
  },
  {
   "cell_type": "code",
   "execution_count": 16,
   "metadata": {},
   "outputs": [
    {
     "data": {
      "text/plain": [
       "<AxesSubplot:ylabel='Frequency'>"
      ]
     },
     "execution_count": 16,
     "metadata": {},
     "output_type": "execute_result"
    },
    {
     "data": {
      "image/png": "[encoded data removed]",
      "text/plain": [
       "<Figure size 720x360 with 1 Axes>"
      ]
     },
     "metadata": {
      "needs_background": "light"
     },
     "output_type": "display_data"
    }
   ],
   "source": [
    "# Visualize histogram plot for the Features (X) - Administration Spend\n",
    "plt.figure(figsize = (10, 5))\n",
    "df['Administration'].plot(kind='hist')"
   ]
  },
  {
   "cell_type": "code",
   "execution_count": 17,
   "metadata": {
    "scrolled": true
   },
   "outputs": [
    {
     "data": {
      "text/plain": [
       "<AxesSubplot:ylabel='Frequency'>"
      ]
     },
     "execution_count": 17,
     "metadata": {},
     "output_type": "execute_result"
    },
    {
     "data": {
      "image/png": "[encoded data removed]",
      "text/plain": [
       "<Figure size 720x360 with 1 Axes>"
      ]
     },
     "metadata": {
      "needs_background": "light"
     },
     "output_type": "display_data"
    }
   ],
   "source": [
    "# Visualize histogram for the Resposne (y) - Profit\n",
    "plt.figure(figsize = (10, 5))\n",
    "df['Profit'].plot(kind='hist')"
   ]
  },
  {
   "cell_type": "markdown",
   "metadata": {},
   "source": [
    "#### b) Data Cleaning"
   ]
  },
  {
   "cell_type": "code",
   "execution_count": 17,
   "metadata": {},
   "outputs": [
    {
     "data": {
      "text/html": [
       "<div>\n",
       "<style scoped>\n",
       "    .dataframe tbody tr th:only-of-type {\n",
       "        vertical-align: middle;\n",
       "    }\n",
       "\n",
       "    .dataframe tbody tr th {\n",
       "        vertical-align: top;\n",
       "    }\n",
       "\n",
       "    .dataframe thead th {\n",
       "        text-align: right;\n",
       "    }\n",
       "</style>\n",
       "<table border=\"1\" class=\"dataframe\">\n",
       "  <thead>\n",
       "    <tr style=\"text-align: right;\">\n",
       "      <th></th>\n",
       "      <th>R&amp;D Spend</th>\n",
       "      <th>Administration</th>\n",
       "      <th>Marketing Spend</th>\n",
       "      <th>State</th>\n",
       "      <th>Profit</th>\n",
       "    </tr>\n",
       "  </thead>\n",
       "  <tbody>\n",
       "    <tr>\n",
       "      <th>0</th>\n",
       "      <td>165349.20</td>\n",
       "      <td>136897.800</td>\n",
       "      <td>471784.1000</td>\n",
       "      <td>New York</td>\n",
       "      <td>192261.83000</td>\n",
       "    </tr>\n",
       "    <tr>\n",
       "      <th>1</th>\n",
       "      <td>162597.70</td>\n",
       "      <td>151377.590</td>\n",
       "      <td>443898.5300</td>\n",
       "      <td>California</td>\n",
       "      <td>191792.06000</td>\n",
       "    </tr>\n",
       "    <tr>\n",
       "      <th>2</th>\n",
       "      <td>153441.51</td>\n",
       "      <td>101145.550</td>\n",
       "      <td>407934.5400</td>\n",
       "      <td>Florida</td>\n",
       "      <td>191050.39000</td>\n",
       "    </tr>\n",
       "    <tr>\n",
       "      <th>3</th>\n",
       "      <td>144372.41</td>\n",
       "      <td>118671.850</td>\n",
       "      <td>383199.6200</td>\n",
       "      <td>New York</td>\n",
       "      <td>182901.99000</td>\n",
       "    </tr>\n",
       "    <tr>\n",
       "      <th>4</th>\n",
       "      <td>142107.34</td>\n",
       "      <td>91391.770</td>\n",
       "      <td>366168.4200</td>\n",
       "      <td>Florida</td>\n",
       "      <td>166187.94000</td>\n",
       "    </tr>\n",
       "    <tr>\n",
       "      <th>...</th>\n",
       "      <td>...</td>\n",
       "      <td>...</td>\n",
       "      <td>...</td>\n",
       "      <td>...</td>\n",
       "      <td>...</td>\n",
       "    </tr>\n",
       "    <tr>\n",
       "      <th>995</th>\n",
       "      <td>54135.00</td>\n",
       "      <td>118451.999</td>\n",
       "      <td>173232.6695</td>\n",
       "      <td>California</td>\n",
       "      <td>95279.96251</td>\n",
       "    </tr>\n",
       "    <tr>\n",
       "      <th>996</th>\n",
       "      <td>134970.00</td>\n",
       "      <td>130390.080</td>\n",
       "      <td>329204.0228</td>\n",
       "      <td>California</td>\n",
       "      <td>164336.60550</td>\n",
       "    </tr>\n",
       "    <tr>\n",
       "      <th>997</th>\n",
       "      <td>100275.47</td>\n",
       "      <td>241926.310</td>\n",
       "      <td>227142.8200</td>\n",
       "      <td>California</td>\n",
       "      <td>413956.48000</td>\n",
       "    </tr>\n",
       "    <tr>\n",
       "      <th>998</th>\n",
       "      <td>128456.23</td>\n",
       "      <td>321652.140</td>\n",
       "      <td>281692.3200</td>\n",
       "      <td>California</td>\n",
       "      <td>333962.19000</td>\n",
       "    </tr>\n",
       "    <tr>\n",
       "      <th>999</th>\n",
       "      <td>161181.72</td>\n",
       "      <td>270939.860</td>\n",
       "      <td>295442.1700</td>\n",
       "      <td>New York</td>\n",
       "      <td>476485.43000</td>\n",
       "    </tr>\n",
       "  </tbody>\n",
       "</table>\n",
       "<p>1000 rows × 5 columns</p>\n",
       "</div>"
      ],
      "text/plain": [
       "     R&D Spend  Administration  Marketing Spend       State        Profit\n",
       "0    165349.20      136897.800      471784.1000    New York  192261.83000\n",
       "1    162597.70      151377.590      443898.5300  California  191792.06000\n",
       "2    153441.51      101145.550      407934.5400     Florida  191050.39000\n",
       "3    144372.41      118671.850      383199.6200    New York  182901.99000\n",
       "4    142107.34       91391.770      366168.4200     Florida  166187.94000\n",
       "..         ...             ...              ...         ...           ...\n",
       "995   54135.00      118451.999      173232.6695  California   95279.96251\n",
       "996  134970.00      130390.080      329204.0228  California  164336.60550\n",
       "997  100275.47      241926.310      227142.8200  California  413956.48000\n",
       "998  128456.23      321652.140      281692.3200  California  333962.19000\n",
       "999  161181.72      270939.860      295442.1700    New York  476485.43000\n",
       "\n",
       "[1000 rows x 5 columns]"
      ]
     },
     "execution_count": 17,
     "metadata": {},
     "output_type": "execute_result"
    }
   ],
   "source": [
    "df"
   ]
  },
  {
   "cell_type": "code",
   "execution_count": 18,
   "metadata": {},
   "outputs": [
    {
     "data": {
      "text/html": [
       "<div>\n",
       "<style scoped>\n",
       "    .dataframe tbody tr th:only-of-type {\n",
       "        vertical-align: middle;\n",
       "    }\n",
       "\n",
       "    .dataframe tbody tr th {\n",
       "        vertical-align: top;\n",
       "    }\n",
       "\n",
       "    .dataframe thead th {\n",
       "        text-align: right;\n",
       "    }\n",
       "</style>\n",
       "<table border=\"1\" class=\"dataframe\">\n",
       "  <thead>\n",
       "    <tr style=\"text-align: right;\">\n",
       "      <th></th>\n",
       "      <th>R&amp;D Spend</th>\n",
       "      <th>Administration</th>\n",
       "      <th>Marketing Spend</th>\n",
       "      <th>State</th>\n",
       "      <th>Profit</th>\n",
       "    </tr>\n",
       "  </thead>\n",
       "  <tbody>\n",
       "    <tr>\n",
       "      <th>3</th>\n",
       "      <td>144372.41</td>\n",
       "      <td>118671.8500</td>\n",
       "      <td>383199.6200</td>\n",
       "      <td>New York</td>\n",
       "      <td>182901.99000</td>\n",
       "    </tr>\n",
       "    <tr>\n",
       "      <th>4</th>\n",
       "      <td>142107.34</td>\n",
       "      <td>91391.7700</td>\n",
       "      <td>366168.4200</td>\n",
       "      <td>Florida</td>\n",
       "      <td>166187.94000</td>\n",
       "    </tr>\n",
       "    <tr>\n",
       "      <th>5</th>\n",
       "      <td>131876.90</td>\n",
       "      <td>99814.7100</td>\n",
       "      <td>362861.3600</td>\n",
       "      <td>New York</td>\n",
       "      <td>156991.12000</td>\n",
       "    </tr>\n",
       "    <tr>\n",
       "      <th>6</th>\n",
       "      <td>134615.46</td>\n",
       "      <td>147198.8700</td>\n",
       "      <td>127716.8200</td>\n",
       "      <td>California</td>\n",
       "      <td>156122.51000</td>\n",
       "    </tr>\n",
       "    <tr>\n",
       "      <th>7</th>\n",
       "      <td>130298.13</td>\n",
       "      <td>145530.0600</td>\n",
       "      <td>323876.6800</td>\n",
       "      <td>Florida</td>\n",
       "      <td>155752.60000</td>\n",
       "    </tr>\n",
       "    <tr>\n",
       "      <th>...</th>\n",
       "      <td>...</td>\n",
       "      <td>...</td>\n",
       "      <td>...</td>\n",
       "      <td>...</td>\n",
       "      <td>...</td>\n",
       "    </tr>\n",
       "    <tr>\n",
       "      <th>992</th>\n",
       "      <td>105127.00</td>\n",
       "      <td>125982.7298</td>\n",
       "      <td>271621.8728</td>\n",
       "      <td>Florida</td>\n",
       "      <td>138841.98810</td>\n",
       "    </tr>\n",
       "    <tr>\n",
       "      <th>993</th>\n",
       "      <td>46798.00</td>\n",
       "      <td>117368.4374</td>\n",
       "      <td>159075.9080</td>\n",
       "      <td>California</td>\n",
       "      <td>89012.02672</td>\n",
       "    </tr>\n",
       "    <tr>\n",
       "      <th>994</th>\n",
       "      <td>97209.00</td>\n",
       "      <td>124813.3635</td>\n",
       "      <td>256344.0701</td>\n",
       "      <td>New York</td>\n",
       "      <td>132077.70900</td>\n",
       "    </tr>\n",
       "    <tr>\n",
       "      <th>995</th>\n",
       "      <td>54135.00</td>\n",
       "      <td>118451.9990</td>\n",
       "      <td>173232.6695</td>\n",
       "      <td>California</td>\n",
       "      <td>95279.96251</td>\n",
       "    </tr>\n",
       "    <tr>\n",
       "      <th>996</th>\n",
       "      <td>134970.00</td>\n",
       "      <td>130390.0800</td>\n",
       "      <td>329204.0228</td>\n",
       "      <td>California</td>\n",
       "      <td>164336.60550</td>\n",
       "    </tr>\n",
       "  </tbody>\n",
       "</table>\n",
       "<p>980 rows × 5 columns</p>\n",
       "</div>"
      ],
      "text/plain": [
       "     R&D Spend  Administration  Marketing Spend       State        Profit\n",
       "3    144372.41     118671.8500      383199.6200    New York  182901.99000\n",
       "4    142107.34      91391.7700      366168.4200     Florida  166187.94000\n",
       "5    131876.90      99814.7100      362861.3600    New York  156991.12000\n",
       "6    134615.46     147198.8700      127716.8200  California  156122.51000\n",
       "7    130298.13     145530.0600      323876.6800     Florida  155752.60000\n",
       "..         ...             ...              ...         ...           ...\n",
       "992  105127.00     125982.7298      271621.8728     Florida  138841.98810\n",
       "993   46798.00     117368.4374      159075.9080  California   89012.02672\n",
       "994   97209.00     124813.3635      256344.0701    New York  132077.70900\n",
       "995   54135.00     118451.9990      173232.6695  California   95279.96251\n",
       "996  134970.00     130390.0800      329204.0228  California  164336.60550\n",
       "\n",
       "[980 rows x 5 columns]"
      ]
     },
     "execution_count": 18,
     "metadata": {},
     "output_type": "execute_result"
    }
   ],
   "source": [
    "# Clean outliers from dataset based on the Response variable (y) = 'Profit'\n",
    "\n",
    "# Outliers on the lower side of the 'Profit'\n",
    "q_low = df['Profit'].quantile(0.01)\n",
    "\n",
    "# Outliers on the higher side of the 'Profit'\n",
    "q_hi  = df['Profit'].quantile(0.99)\n",
    "\n",
    "# Filter the outliers from the 'Profit'\n",
    "df_filtered = df[(df['Profit'] < q_hi) & (df['Profit'] > q_low)]\n",
    "\n",
    "df_filtered"
   ]
  },
  {
   "cell_type": "markdown",
   "metadata": {},
   "source": [
    "#### c) Data Aggregation"
   ]
  },
  {
   "cell_type": "markdown",
   "metadata": {},
   "source": [
    "#### d) Data Join / Merge"
   ]
  },
  {
   "cell_type": "markdown",
   "metadata": {},
   "source": [
    "#### e) Data Scaling - Normalization / Standardization"
   ]
  },
  {
   "cell_type": "markdown",
   "metadata": {},
   "source": [
    "#### f) Data Conversion - Numerical / Categorical"
   ]
  },
  {
   "cell_type": "markdown",
   "metadata": {},
   "source": [
    "#### g) Feature Selection - Correlation / Importance"
   ]
  },
  {
   "cell_type": "code",
   "execution_count": 29,
   "metadata": {},
   "outputs": [
    {
     "data": {
      "text/html": [
       "<div>\n",
       "<style scoped>\n",
       "    .dataframe tbody tr th:only-of-type {\n",
       "        vertical-align: middle;\n",
       "    }\n",
       "\n",
       "    .dataframe tbody tr th {\n",
       "        vertical-align: top;\n",
       "    }\n",
       "\n",
       "    .dataframe thead th {\n",
       "        text-align: right;\n",
       "    }\n",
       "</style>\n",
       "<table border=\"1\" class=\"dataframe\">\n",
       "  <thead>\n",
       "    <tr style=\"text-align: right;\">\n",
       "      <th></th>\n",
       "      <th>R&amp;D Spend</th>\n",
       "      <th>Administration</th>\n",
       "      <th>Marketing Spend</th>\n",
       "      <th>Profit</th>\n",
       "    </tr>\n",
       "  </thead>\n",
       "  <tbody>\n",
       "    <tr>\n",
       "      <th>R&amp;D Spend</th>\n",
       "      <td>1.000000</td>\n",
       "      <td>0.577029</td>\n",
       "      <td>0.978385</td>\n",
       "      <td>0.936576</td>\n",
       "    </tr>\n",
       "    <tr>\n",
       "      <th>Administration</th>\n",
       "      <td>0.577029</td>\n",
       "      <td>1.000000</td>\n",
       "      <td>0.519506</td>\n",
       "      <td>0.741227</td>\n",
       "    </tr>\n",
       "    <tr>\n",
       "      <th>Marketing Spend</th>\n",
       "      <td>0.978385</td>\n",
       "      <td>0.519506</td>\n",
       "      <td>1.000000</td>\n",
       "      <td>0.914419</td>\n",
       "    </tr>\n",
       "    <tr>\n",
       "      <th>Profit</th>\n",
       "      <td>0.936576</td>\n",
       "      <td>0.741227</td>\n",
       "      <td>0.914419</td>\n",
       "      <td>1.000000</td>\n",
       "    </tr>\n",
       "  </tbody>\n",
       "</table>\n",
       "</div>"
      ],
      "text/plain": [
       "                 R&D Spend  Administration  Marketing Spend    Profit\n",
       "R&D Spend         1.000000        0.577029         0.978385  0.936576\n",
       "Administration    0.577029        1.000000         0.519506  0.741227\n",
       "Marketing Spend   0.978385        0.519506         1.000000  0.914419\n",
       "Profit            0.936576        0.741227         0.914419  1.000000"
      ]
     },
     "execution_count": 29,
     "metadata": {},
     "output_type": "execute_result"
    }
   ],
   "source": [
    "# Investigate correlation between the Feature (X) and Response variable (y).\n",
    "cor = df[['R&D Spend', 'Administration', 'Marketing Spend', 'Profit']].corr()\n",
    "cor"
   ]
  },
  {
   "cell_type": "code",
   "execution_count": 30,
   "metadata": {},
   "outputs": [
    {
     "data": {
      "image/png": "[encoded data removed]",
      "text/plain": [
       "<Figure size 432x288 with 2 Axes>"
      ]
     },
     "metadata": {
      "needs_background": "light"
     },
     "output_type": "display_data"
    }
   ],
   "source": [
    "# Investigate correlation in heatmap\n",
    "hm_cor = sns.heatmap(cor, annot = True, annot_kws = {'size' : 20})"
   ]
  },
  {
   "cell_type": "code",
   "execution_count": 31,
   "metadata": {},
   "outputs": [
    {
     "data": {
      "text/plain": [
       "(980, 1)"
      ]
     },
     "execution_count": 31,
     "metadata": {},
     "output_type": "execute_result"
    }
   ],
   "source": [
    "# Select Response variable 'Profit' (y)\n",
    "y_select = df_filtered.drop(['R&D Spend', 'Administration', 'Marketing Spend', 'State'], axis = 1)\n",
    "y = y_select.values\n",
    "y.shape"
   ]
  },
  {
   "cell_type": "code",
   "execution_count": 32,
   "metadata": {},
   "outputs": [
    {
     "data": {
      "text/plain": [
       "(980, 3)"
      ]
     },
     "execution_count": 32,
     "metadata": {},
     "output_type": "execute_result"
    }
   ],
   "source": [
    "# Select Feature variable 'Profit' (X)\n",
    "X_select = df_filtered.drop(['State', 'Profit'], axis = 1)\n",
    "X = X_select.values\n",
    "X.shape"
   ]
  },
  {
   "cell_type": "markdown",
   "metadata": {},
   "source": [
    "#### h) Feature Engineering"
   ]
  },
  {
   "cell_type": "markdown",
   "metadata": {},
   "source": [
    "### 4. Data Split for Training"
   ]
  },
  {
   "cell_type": "code",
   "execution_count": 33,
   "metadata": {},
   "outputs": [],
   "source": [
    "X_train, X_test, y_train, y_test = train_test_split(X, y, test_size=0.2, random_state = 100)"
   ]
  },
  {
   "cell_type": "code",
   "execution_count": 34,
   "metadata": {},
   "outputs": [
    {
     "name": "stdout",
     "output_type": "stream",
     "text": [
      "(784, 3)\n",
      "(196, 3)\n",
      "(784, 1)\n",
      "(196, 1)\n"
     ]
    }
   ],
   "source": [
    "# Train and test data shape\n",
    "print(X_train.shape) # 80% data\n",
    "print(X_test.shape)  # 20% data\n",
    "print(y_train.shape) # 80% data\n",
    "print(y_test.shape)  # 20% data"
   ]
  },
  {
   "cell_type": "markdown",
   "metadata": {},
   "source": [
    "### 5. Modelling Data - Build Data Model"
   ]
  },
  {
   "cell_type": "code",
   "execution_count": 35,
   "metadata": {},
   "outputs": [],
   "source": [
    "# Initialize an instance of Linear Regression model.\n",
    "lm = LinearRegression(fit_intercept = True)  "
   ]
  },
  {
   "cell_type": "code",
   "execution_count": 36,
   "metadata": {},
   "outputs": [],
   "source": [
    "# Fit the linear regression model to the data. Use 'X' and then 'y'.\n",
    "model = lm.fit(X_train, y_train)"
   ]
  },
  {
   "cell_type": "code",
   "execution_count": 37,
   "metadata": {},
   "outputs": [
    {
     "data": {
      "text/plain": [
       "array([[ 0.76417115, -0.05735525,  0.04822235]])"
      ]
     },
     "execution_count": 37,
     "metadata": {},
     "output_type": "execute_result"
    }
   ],
   "source": [
    "# model coeffiencint\n",
    "model.coef_"
   ]
  },
  {
   "cell_type": "code",
   "execution_count": 38,
   "metadata": {},
   "outputs": [
    {
     "data": {
      "text/plain": [
       "array([52528.89063703])"
      ]
     },
     "execution_count": 38,
     "metadata": {},
     "output_type": "execute_result"
    }
   ],
   "source": [
    "# model intercept\n",
    "model.intercept_"
   ]
  },
  {
   "cell_type": "code",
   "execution_count": 39,
   "metadata": {},
   "outputs": [],
   "source": [
    "# Ask the model to predict.\n",
    "# Pass the testing data which has the input values.\n",
    "y_predictions_test = model.predict(X_test)\n",
    "y_predictions_train = model.predict(X_train)"
   ]
  },
  {
   "cell_type": "code",
   "execution_count": 40,
   "metadata": {},
   "outputs": [
    {
     "data": {
      "text/plain": [
       "array([[ 57417.19907306],\n",
       "       [143280.56992268],\n",
       "       [ 96785.42517394],\n",
       "       [146043.23756208],\n",
       "       [ 71855.90137485],\n",
       "       [181642.18347471],\n",
       "       [175053.36967644],\n",
       "       [145530.5950862 ],\n",
       "       [ 88702.81873236],\n",
       "       [ 64196.13193573]])"
      ]
     },
     "execution_count": 40,
     "metadata": {},
     "output_type": "execute_result"
    }
   ],
   "source": [
    "# Show test predictions\n",
    "y_predictions_test [0:10]"
   ]
  },
  {
   "cell_type": "code",
   "execution_count": 41,
   "metadata": {},
   "outputs": [
    {
     "data": {
      "text/plain": [
       "array([[138909.52894621],\n",
       "       [101804.05920195],\n",
       "       [ 98962.45820027],\n",
       "       [117873.36380476],\n",
       "       [ 90758.48110651],\n",
       "       [127239.56379845],\n",
       "       [ 95244.10276045],\n",
       "       [152326.5028679 ],\n",
       "       [ 99428.4196565 ],\n",
       "       [154361.79533904]])"
      ]
     },
     "execution_count": 41,
     "metadata": {},
     "output_type": "execute_result"
    }
   ],
   "source": [
    "# Show train predictions\n",
    "y_predictions_train [0:10]"
   ]
  },
  {
   "cell_type": "code",
   "execution_count": 42,
   "metadata": {},
   "outputs": [
    {
     "name": "stdout",
     "output_type": "stream",
     "text": [
      "[[ 57417.19907306]\n",
      " [143280.56992268]\n",
      " [ 96785.42517394]\n",
      " [146043.23756208]\n",
      " [ 71855.90137485]\n",
      " [181642.18347471]\n",
      " [175053.36967644]\n",
      " [145530.5950862 ]\n",
      " [ 88702.81873236]\n",
      " [ 64196.13193573]\n",
      " [179882.73339445]\n",
      " [100053.94532598]\n",
      " [ 77427.23051607]\n",
      " [ 61790.78628249]\n",
      " [ 82417.85593693]\n",
      " [166117.77368949]\n",
      " [122952.25879128]\n",
      " [176082.89835885]\n",
      " [152076.12284886]\n",
      " [ 78693.55928349]\n",
      " [125647.87551858]\n",
      " [139023.26088943]\n",
      " [117732.47200493]\n",
      " [115933.97960824]\n",
      " [137621.13279673]\n",
      " [133545.45536935]\n",
      " [156268.07845387]\n",
      " [157099.84935142]\n",
      " [162220.33288394]\n",
      " [ 86214.29598849]\n",
      " [134899.20494707]\n",
      " [169267.46942949]\n",
      " [109430.04039641]\n",
      " [ 99574.40393571]\n",
      " [111884.61330322]\n",
      " [155575.50186173]\n",
      " [136484.66214098]\n",
      " [170153.56006138]\n",
      " [102869.23521011]\n",
      " [ 82491.69682466]\n",
      " [162891.69082827]\n",
      " [151942.86975798]\n",
      " [ 86457.88604339]\n",
      " [151593.18647456]\n",
      " [ 56570.1507456 ]\n",
      " [164753.83915785]\n",
      " [105614.07918664]\n",
      " [117329.08805168]\n",
      " [110308.49231934]\n",
      " [ 88252.13469977]\n",
      " [118293.49299097]\n",
      " [167100.62134653]\n",
      " [181815.32762682]\n",
      " [159192.00780185]\n",
      " [126094.31581659]\n",
      " [123521.53278474]\n",
      " [ 75604.12449235]\n",
      " [ 91841.48077273]\n",
      " [121932.06631889]\n",
      " [ 78974.49414891]\n",
      " [125616.47191684]\n",
      " [ 94592.26597434]\n",
      " [172171.02887446]\n",
      " [100900.99365199]\n",
      " [169021.3331402 ]\n",
      " [ 58785.41941358]\n",
      " [109193.24031141]\n",
      " [ 96385.66589075]\n",
      " [ 68513.70191692]\n",
      " [ 95356.13721407]\n",
      " [168758.22193765]\n",
      " [160420.14300338]\n",
      " [102619.7039416 ]\n",
      " [ 86846.61162212]\n",
      " [116657.93055733]\n",
      " [ 74814.79088562]\n",
      " [144063.11356526]\n",
      " [ 54505.15216522]\n",
      " [106506.11104843]\n",
      " [114128.32648472]\n",
      " [ 66183.0458967 ]\n",
      " [ 57963.79137833]\n",
      " [137922.43756034]\n",
      " [155698.57000351]\n",
      " [147968.1930855 ]\n",
      " [146767.21774631]\n",
      " [157363.80930359]\n",
      " [ 54649.43895289]\n",
      " [100732.09323445]\n",
      " [120735.33470946]\n",
      " [117677.30352579]\n",
      " [139803.25829761]\n",
      " [120750.61213792]\n",
      " [126368.46071786]\n",
      " [140713.96256225]\n",
      " [176480.96014671]\n",
      " [144661.47936757]\n",
      " [153425.62870257]\n",
      " [101168.34858337]\n",
      " [ 61963.90129972]\n",
      " [161413.1756086 ]\n",
      " [ 74367.50183707]\n",
      " [ 89773.08721025]\n",
      " [113532.02894043]\n",
      " [106125.87291863]\n",
      " [ 69068.78168362]\n",
      " [121498.35720438]\n",
      " [106177.64641282]\n",
      " [ 52150.73126374]\n",
      " [ 62353.50475862]\n",
      " [169367.62143385]\n",
      " [ 69055.20175531]\n",
      " [145824.26114569]\n",
      " [149018.09166037]\n",
      " [ 95713.45920162]\n",
      " [ 92485.67884988]\n",
      " [ 88813.15568581]\n",
      " [166131.35362353]\n",
      " [141689.17150942]\n",
      " [ 76676.09047041]\n",
      " [122308.90945893]\n",
      " [142631.27936524]\n",
      " [ 76319.61722283]\n",
      " [137572.75428174]\n",
      " [100835.64022376]\n",
      " [141222.36130839]\n",
      " [116314.21773895]\n",
      " [176647.3143241 ]\n",
      " [164065.50630028]\n",
      " [ 63691.12817362]\n",
      " [159269.24366879]\n",
      " [168502.74943923]\n",
      " [ 64124.83728814]\n",
      " [180405.5608146 ]\n",
      " [107801.29716207]\n",
      " [153825.38798576]\n",
      " [142361.37819372]\n",
      " [136197.7860562 ]\n",
      " [100592.5714481 ]\n",
      " [160758.79258235]\n",
      " [ 71708.38118697]\n",
      " [103528.71071091]\n",
      " [167988.40947857]\n",
      " [112123.11087875]\n",
      " [106538.36339015]\n",
      " [102405.81999402]\n",
      " [140472.9187475 ]\n",
      " [ 65627.1173852 ]\n",
      " [136752.8658229 ]\n",
      " [ 66033.66663255]\n",
      " [142737.37259469]\n",
      " [105267.79089298]\n",
      " [ 78595.95351354]\n",
      " [ 77959.39414534]\n",
      " [101132.70126245]\n",
      " [ 94481.08027608]\n",
      " [173529.02218675]\n",
      " [163259.19776974]\n",
      " [ 76844.14213741]\n",
      " [170235.88840769]\n",
      " [ 81130.30852743]\n",
      " [ 98656.90970209]\n",
      " [167116.74751979]\n",
      " [ 85027.74933297]\n",
      " [ 57216.04631139]\n",
      " [ 76271.23871266]\n",
      " [126411.74675348]\n",
      " [150294.60537598]\n",
      " [151983.60955345]\n",
      " [ 68563.77792151]\n",
      " [104024.37826872]\n",
      " [ 87448.37240937]\n",
      " [ 70336.80794064]\n",
      " [168569.80036763]\n",
      " [ 67586.02273421]\n",
      " [102105.36397039]\n",
      " [ 86338.21288081]\n",
      " [106276.10092758]\n",
      " [154557.00688377]\n",
      " [ 65841.85007759]\n",
      " [ 94251.07015523]\n",
      " [ 54563.71562882]\n",
      " [ 56058.35701742]\n",
      " [ 94743.38161449]\n",
      " [181103.22988129]\n",
      " [ 74737.55501386]\n",
      " [ 84554.14916296]\n",
      " [142161.074185  ]\n",
      " [ 82226.88812768]\n",
      " [127423.45177211]\n",
      " [180257.03030008]\n",
      " [ 98225.25827383]\n",
      " [105850.03052684]\n",
      " [ 56076.18067788]\n",
      " [ 75577.81338055]\n",
      " [ 94560.01363262]]\n"
     ]
    },
    {
     "data": {
      "text/plain": [
       "numpy.ndarray"
      ]
     },
     "execution_count": 42,
     "metadata": {},
     "output_type": "execute_result"
    }
   ],
   "source": [
    "# Show all test predictions\n",
    "print(y_predictions_test)\n",
    "type(y_predictions_test)"
   ]
  },
  {
   "cell_type": "markdown",
   "metadata": {},
   "source": [
    "### 6. Model Evaluation"
   ]
  },
  {
   "cell_type": "code",
   "execution_count": 43,
   "metadata": {},
   "outputs": [
    {
     "name": "stdout",
     "output_type": "stream",
     "text": [
      "The accuracy of the model on training data set is : 0.9945442014337438\n"
     ]
    }
   ],
   "source": [
    "# Coeffiencient of determination R^2 of the prediction from sklearn.\n",
    "# Train data\n",
    "print('The accuracy of the model on training data set is :', r2_score(y_train, y_predictions_train))"
   ]
  },
  {
   "cell_type": "code",
   "execution_count": 44,
   "metadata": {},
   "outputs": [
    {
     "name": "stdout",
     "output_type": "stream",
     "text": [
      "The accuracy of the model on training data set is : 0.9919622989878282\n"
     ]
    }
   ],
   "source": [
    "# Coeffiencient of determination R^2 of the prediction from sklearn.\n",
    "# Test data\n",
    "print('The accuracy of the model on training data set is :', r2_score(y_test, y_predictions_test))"
   ]
  },
  {
   "cell_type": "code",
   "execution_count": null,
   "metadata": {},
   "outputs": [],
   "source": [
    "#The R Square is measure of how close the data are to the fitted regression line.\n",
    "# Our model explains 99% of the training data & 99% of the testing data."
   ]
  },
  {
   "cell_type": "code",
   "execution_count": 45,
   "metadata": {},
   "outputs": [
    {
     "name": "stdout",
     "output_type": "stream",
     "text": [
      "The RMSE on training data set is : 2898.3923481243887\n"
     ]
    }
   ],
   "source": [
    "print('The RMSE on training data set is :' ,np.sqrt(mean_squared_error(y_train, y_predictions_train)))"
   ]
  },
  {
   "cell_type": "code",
   "execution_count": 46,
   "metadata": {},
   "outputs": [
    {
     "name": "stdout",
     "output_type": "stream",
     "text": [
      "The RMSE on testing data set is : 3348.049471358695\n"
     ]
    }
   ],
   "source": [
    "print('The RMSE on testing data set is :' ,np.sqrt(mean_squared_error(y_test, y_predictions_test)))"
   ]
  },
  {
   "cell_type": "code",
   "execution_count": null,
   "metadata": {},
   "outputs": [],
   "source": [
    "# The RMSE is the standard deviation of the residuals. Residuals is \n",
    "# the difference between the predicted value and the regression line. \n",
    "# Hence RMSE is a measure of how spread your residuals are.\n",
    "\n",
    "# The Root Mean Squared Error measures the average error the model makes\n",
    "# in predicting the outcome. Smaller the value of RMSE, better the model is.\n",
    "# With high numbers, model needs to be improved."
   ]
  },
  {
   "cell_type": "code",
   "execution_count": 48,
   "metadata": {},
   "outputs": [
    {
     "name": "stdout",
     "output_type": "stream",
     "text": [
      "The MAE  on the training dataset is:  630.5127770451438\n",
      "The MAE  on the testing dataset is:  692.443162094401\n"
     ]
    }
   ],
   "source": [
    "# The mean absolute error (MAE) is the average of all the absolute errors. \n",
    "# The absolute error is the difference between the true value (y_train) \n",
    "# and the predicted value (y_pred).\n",
    "\n",
    "# The Mean Absolute Error (MAE)\n",
    "print('The MAE  on the training dataset is: ',mean_absolute_error(y_train,y_predictions_train))\n",
    "print('The MAE  on the testing dataset is: ',mean_absolute_error(y_test,y_predictions_test))"
   ]
  },
  {
   "cell_type": "code",
   "execution_count": 50,
   "metadata": {
    "scrolled": true
   },
   "outputs": [
    {
     "data": {
      "text/plain": [
       "Text(0.5, 1.0, 'Actual Vs Predicted Values')"
      ]
     },
     "execution_count": 50,
     "metadata": {},
     "output_type": "execute_result"
    },
    {
     "data": {
      "image/png": "[encoded data removed]",
      "text/plain": [
       "<Figure size 1080x720 with 1 Axes>"
      ]
     },
     "metadata": {
      "needs_background": "light"
     },
     "output_type": "display_data"
    }
   ],
   "source": [
    "# Visualise train and test data using Scatter plot.\n",
    "plt.figure(figsize=(15,10))\n",
    "plt.scatter(y_test, y_predictions_test, c='green')\n",
    "plt.plot([y_test.min(), y_test.max()], [y_test.min(), y_test.max()], 'k--', c='blue', lw=3)\n",
    "plt.xlabel('Actual')\n",
    "plt.ylabel('Predicted')\n",
    "plt.title('Actual Vs Predicted Values')"
   ]
  },
  {
   "cell_type": "code",
   "execution_count": 51,
   "metadata": {
    "scrolled": true
   },
   "outputs": [
    {
     "name": "stderr",
     "output_type": "stream",
     "text": [
      "C:\\Users\\Sagewood\\anaconda3\\lib\\site-packages\\seaborn\\_decorators.py:36: FutureWarning: Pass the following variables as keyword args: x, y. From version 0.12, the only valid positional argument will be `data`, and passing other arguments without an explicit keyword will result in an error or misinterpretation.\n",
      "  warnings.warn(\n"
     ]
    },
    {
     "data": {
      "text/plain": [
       "Text(0.5, 1.0, 'Actuals Vs Residuals')"
      ]
     },
     "execution_count": 51,
     "metadata": {},
     "output_type": "execute_result"
    },
    {
     "data": {
      "image/png": "[encoded data removed]",
      "text/plain": [
       "<Figure size 1080x720 with 1 Axes>"
      ]
     },
     "metadata": {
      "needs_background": "light"
     },
     "output_type": "display_data"
    }
   ],
   "source": [
    "# Plotting Residuals\n",
    "\n",
    "plt.figure(figsize=(15,10))\n",
    "\n",
    "sns.residplot(y_test, y_predictions_test, color='green')\n",
    "plt.xlabel('Actual Profit')\n",
    "plt.ylabel('Residuals')\n",
    "plt.title('Actuals Vs Residuals')"
   ]
  },
  {
   "cell_type": "code",
   "execution_count": 52,
   "metadata": {},
   "outputs": [
    {
     "data": {
      "text/plain": [
       "numpy.ndarray"
      ]
     },
     "execution_count": 52,
     "metadata": {},
     "output_type": "execute_result"
    }
   ],
   "source": [
    "type(X_test) # Is an array. Pass the column name and convert into DataFrame."
   ]
  },
  {
   "cell_type": "code",
   "execution_count": 53,
   "metadata": {},
   "outputs": [],
   "source": [
    "# Create a DataFrame to show actual Vs predicted values of our test data set.\n",
    "avp_df = pd.DataFrame(X_test, columns = ['R&D Spend', 'Administration', 'Marketing Spend'])\n",
    "avp_df['Profit Actual'] = y_test\n",
    "avp_df['Profit Predicted'] = y_predictions_test\n",
    "avp_df['Difference'] = y_test - y_predictions_test"
   ]
  },
  {
   "cell_type": "code",
   "execution_count": 54,
   "metadata": {
    "scrolled": true
   },
   "outputs": [
    {
     "data": {
      "text/html": [
       "<div>\n",
       "<style scoped>\n",
       "    .dataframe tbody tr th:only-of-type {\n",
       "        vertical-align: middle;\n",
       "    }\n",
       "\n",
       "    .dataframe tbody tr th {\n",
       "        vertical-align: top;\n",
       "    }\n",
       "\n",
       "    .dataframe thead th {\n",
       "        text-align: right;\n",
       "    }\n",
       "</style>\n",
       "<table border=\"1\" class=\"dataframe\">\n",
       "  <thead>\n",
       "    <tr style=\"text-align: right;\">\n",
       "      <th></th>\n",
       "      <th>R&amp;D Spend</th>\n",
       "      <th>Administration</th>\n",
       "      <th>Marketing Spend</th>\n",
       "      <th>Profit Actual</th>\n",
       "      <th>Profit Predicted</th>\n",
       "      <th>Difference</th>\n",
       "    </tr>\n",
       "  </thead>\n",
       "  <tbody>\n",
       "    <tr>\n",
       "      <th>0</th>\n",
       "      <td>9316.0</td>\n",
       "      <td>111832.9249</td>\n",
       "      <td>86754.28662</td>\n",
       "      <td>56991.47755</td>\n",
       "      <td>57417.199073</td>\n",
       "      <td>-425.721523</td>\n",
       "    </tr>\n",
       "    <tr>\n",
       "      <th>1</th>\n",
       "      <td>110481.0</td>\n",
       "      <td>126773.4329</td>\n",
       "      <td>281952.43040</td>\n",
       "      <td>143415.86410</td>\n",
       "      <td>143280.569923</td>\n",
       "      <td>135.294177</td>\n",
       "    </tr>\n",
       "    <tr>\n",
       "      <th>2</th>\n",
       "      <td>55700.0</td>\n",
       "      <td>118683.1253</td>\n",
       "      <td>176252.34130</td>\n",
       "      <td>96616.92850</td>\n",
       "      <td>96785.425174</td>\n",
       "      <td>-168.496674</td>\n",
       "    </tr>\n",
       "    <tr>\n",
       "      <th>3</th>\n",
       "      <td>113736.0</td>\n",
       "      <td>127254.1462</td>\n",
       "      <td>288232.96180</td>\n",
       "      <td>146196.58250</td>\n",
       "      <td>146043.237562</td>\n",
       "      <td>153.344938</td>\n",
       "    </tr>\n",
       "    <tr>\n",
       "      <th>4</th>\n",
       "      <td>19561.0</td>\n",
       "      <td>113345.9532</td>\n",
       "      <td>225622.44540</td>\n",
       "      <td>65743.69265</td>\n",
       "      <td>71855.901375</td>\n",
       "      <td>-6112.208725</td>\n",
       "    </tr>\n",
       "    <tr>\n",
       "      <th>5</th>\n",
       "      <td>155679.0</td>\n",
       "      <td>133448.4795</td>\n",
       "      <td>369162.09480</td>\n",
       "      <td>182028.12550</td>\n",
       "      <td>181642.183475</td>\n",
       "      <td>385.942025</td>\n",
       "    </tr>\n",
       "    <tr>\n",
       "      <th>6</th>\n",
       "      <td>147916.0</td>\n",
       "      <td>132302.0043</td>\n",
       "      <td>354183.36510</td>\n",
       "      <td>175396.26160</td>\n",
       "      <td>175053.369676</td>\n",
       "      <td>342.891924</td>\n",
       "    </tr>\n",
       "    <tr>\n",
       "      <th>7</th>\n",
       "      <td>113132.0</td>\n",
       "      <td>127164.9447</td>\n",
       "      <td>287067.54210</td>\n",
       "      <td>145680.59050</td>\n",
       "      <td>145530.595086</td>\n",
       "      <td>149.995414</td>\n",
       "    </tr>\n",
       "    <tr>\n",
       "      <th>8</th>\n",
       "      <td>46177.0</td>\n",
       "      <td>117276.7253</td>\n",
       "      <td>157877.68680</td>\n",
       "      <td>88481.51178</td>\n",
       "      <td>88702.818732</td>\n",
       "      <td>-221.306952</td>\n",
       "    </tr>\n",
       "    <tr>\n",
       "      <th>9</th>\n",
       "      <td>17303.0</td>\n",
       "      <td>113012.4814</td>\n",
       "      <td>102165.22490</td>\n",
       "      <td>63814.70273</td>\n",
       "      <td>64196.131936</td>\n",
       "      <td>-381.429206</td>\n",
       "    </tr>\n",
       "    <tr>\n",
       "      <th>10</th>\n",
       "      <td>153606.0</td>\n",
       "      <td>133142.3294</td>\n",
       "      <td>365162.23570</td>\n",
       "      <td>180257.17950</td>\n",
       "      <td>179882.733394</td>\n",
       "      <td>374.446106</td>\n",
       "    </tr>\n",
       "    <tr>\n",
       "      <th>11</th>\n",
       "      <td>59551.0</td>\n",
       "      <td>119251.8585</td>\n",
       "      <td>183682.85630</td>\n",
       "      <td>99906.80457</td>\n",
       "      <td>100053.945326</td>\n",
       "      <td>-147.140756</td>\n",
       "    </tr>\n",
       "    <tr>\n",
       "      <th>12</th>\n",
       "      <td>32892.0</td>\n",
       "      <td>115314.7360</td>\n",
       "      <td>132244.24300</td>\n",
       "      <td>77132.25091</td>\n",
       "      <td>77427.230516</td>\n",
       "      <td>-294.979606</td>\n",
       "    </tr>\n",
       "    <tr>\n",
       "      <th>13</th>\n",
       "      <td>14469.0</td>\n",
       "      <td>112593.9434</td>\n",
       "      <td>96697.01419</td>\n",
       "      <td>61393.64099</td>\n",
       "      <td>61790.786282</td>\n",
       "      <td>-397.145292</td>\n",
       "    </tr>\n",
       "    <tr>\n",
       "      <th>14</th>\n",
       "      <td>38772.0</td>\n",
       "      <td>116183.1212</td>\n",
       "      <td>143589.71910</td>\n",
       "      <td>82155.48418</td>\n",
       "      <td>82417.855937</td>\n",
       "      <td>-262.371757</td>\n",
       "    </tr>\n",
       "    <tr>\n",
       "      <th>15</th>\n",
       "      <td>137388.0</td>\n",
       "      <td>130747.1813</td>\n",
       "      <td>333869.56040</td>\n",
       "      <td>166402.28200</td>\n",
       "      <td>166117.773689</td>\n",
       "      <td>284.508311</td>\n",
       "    </tr>\n",
       "    <tr>\n",
       "      <th>16</th>\n",
       "      <td>86530.0</td>\n",
       "      <td>123236.2402</td>\n",
       "      <td>235738.91050</td>\n",
       "      <td>122954.73150</td>\n",
       "      <td>122952.258791</td>\n",
       "      <td>2.472709</td>\n",
       "    </tr>\n",
       "    <tr>\n",
       "      <th>17</th>\n",
       "      <td>149129.0</td>\n",
       "      <td>132481.1456</td>\n",
       "      <td>356523.85190</td>\n",
       "      <td>176432.51700</td>\n",
       "      <td>176082.898359</td>\n",
       "      <td>349.618641</td>\n",
       "    </tr>\n",
       "    <tr>\n",
       "      <th>18</th>\n",
       "      <td>120844.0</td>\n",
       "      <td>128303.8880</td>\n",
       "      <td>301947.86720</td>\n",
       "      <td>152268.88560</td>\n",
       "      <td>152076.122849</td>\n",
       "      <td>192.762751</td>\n",
       "    </tr>\n",
       "    <tr>\n",
       "      <th>19</th>\n",
       "      <td>34384.0</td>\n",
       "      <td>115535.0813</td>\n",
       "      <td>135123.06110</td>\n",
       "      <td>78406.85364</td>\n",
       "      <td>78693.559283</td>\n",
       "      <td>-286.705643</td>\n",
       "    </tr>\n",
       "  </tbody>\n",
       "</table>\n",
       "</div>"
      ],
      "text/plain": [
       "    R&D Spend  Administration  Marketing Spend  Profit Actual  \\\n",
       "0      9316.0     111832.9249      86754.28662    56991.47755   \n",
       "1    110481.0     126773.4329     281952.43040   143415.86410   \n",
       "2     55700.0     118683.1253     176252.34130    96616.92850   \n",
       "3    113736.0     127254.1462     288232.96180   146196.58250   \n",
       "4     19561.0     113345.9532     225622.44540    65743.69265   \n",
       "5    155679.0     133448.4795     369162.09480   182028.12550   \n",
       "6    147916.0     132302.0043     354183.36510   175396.26160   \n",
       "7    113132.0     127164.9447     287067.54210   145680.59050   \n",
       "8     46177.0     117276.7253     157877.68680    88481.51178   \n",
       "9     17303.0     113012.4814     102165.22490    63814.70273   \n",
       "10   153606.0     133142.3294     365162.23570   180257.17950   \n",
       "11    59551.0     119251.8585     183682.85630    99906.80457   \n",
       "12    32892.0     115314.7360     132244.24300    77132.25091   \n",
       "13    14469.0     112593.9434      96697.01419    61393.64099   \n",
       "14    38772.0     116183.1212     143589.71910    82155.48418   \n",
       "15   137388.0     130747.1813     333869.56040   166402.28200   \n",
       "16    86530.0     123236.2402     235738.91050   122954.73150   \n",
       "17   149129.0     132481.1456     356523.85190   176432.51700   \n",
       "18   120844.0     128303.8880     301947.86720   152268.88560   \n",
       "19    34384.0     115535.0813     135123.06110    78406.85364   \n",
       "\n",
       "    Profit Predicted   Difference  \n",
       "0       57417.199073  -425.721523  \n",
       "1      143280.569923   135.294177  \n",
       "2       96785.425174  -168.496674  \n",
       "3      146043.237562   153.344938  \n",
       "4       71855.901375 -6112.208725  \n",
       "5      181642.183475   385.942025  \n",
       "6      175053.369676   342.891924  \n",
       "7      145530.595086   149.995414  \n",
       "8       88702.818732  -221.306952  \n",
       "9       64196.131936  -381.429206  \n",
       "10     179882.733394   374.446106  \n",
       "11     100053.945326  -147.140756  \n",
       "12      77427.230516  -294.979606  \n",
       "13      61790.786282  -397.145292  \n",
       "14      82417.855937  -262.371757  \n",
       "15     166117.773689   284.508311  \n",
       "16     122952.258791     2.472709  \n",
       "17     176082.898359   349.618641  \n",
       "18     152076.122849   192.762751  \n",
       "19      78693.559283  -286.705643  "
      ]
     },
     "execution_count": 54,
     "metadata": {},
     "output_type": "execute_result"
    }
   ],
   "source": [
    "# Show avp_df DataFrame\n",
    "avp_df[0:20]"
   ]
  },
  {
   "cell_type": "code",
   "execution_count": 55,
   "metadata": {},
   "outputs": [],
   "source": [
    "# Save acutal vs predicted DataFrame to a csv. 'r' is for raw data.\n",
    "avp_df.to_csv(r'actual_vs_predicted.csv')"
   ]
  },
  {
   "cell_type": "markdown",
   "metadata": {},
   "source": [
    "### 7. Model Tuning"
   ]
  },
  {
   "cell_type": "markdown",
   "metadata": {},
   "source": [
    "### 8. Final Model"
   ]
  },
  {
   "cell_type": "markdown",
   "metadata": {},
   "source": [
    "#### Creating model coefficient DataFrame"
   ]
  },
  {
   "cell_type": "code",
   "execution_count": 56,
   "metadata": {
    "scrolled": true
   },
   "outputs": [
    {
     "data": {
      "text/html": [
       "<div>\n",
       "<style scoped>\n",
       "    .dataframe tbody tr th:only-of-type {\n",
       "        vertical-align: middle;\n",
       "    }\n",
       "\n",
       "    .dataframe tbody tr th {\n",
       "        vertical-align: top;\n",
       "    }\n",
       "\n",
       "    .dataframe thead th {\n",
       "        text-align: right;\n",
       "    }\n",
       "</style>\n",
       "<table border=\"1\" class=\"dataframe\">\n",
       "  <thead>\n",
       "    <tr style=\"text-align: right;\">\n",
       "      <th></th>\n",
       "      <th>R&amp;D Spend</th>\n",
       "      <th>Administration</th>\n",
       "      <th>Marketing Spend</th>\n",
       "    </tr>\n",
       "  </thead>\n",
       "  <tbody>\n",
       "    <tr>\n",
       "      <th>0</th>\n",
       "      <td>0.764171</td>\n",
       "      <td>-0.057355</td>\n",
       "      <td>0.048222</td>\n",
       "    </tr>\n",
       "  </tbody>\n",
       "</table>\n",
       "</div>"
      ],
      "text/plain": [
       "   R&D Spend  Administration  Marketing Spend\n",
       "0   0.764171       -0.057355         0.048222"
      ]
     },
     "execution_count": 56,
     "metadata": {},
     "output_type": "execute_result"
    }
   ],
   "source": [
    "# Assigning model coefficient\n",
    "\n",
    "coef = model.coef_\n",
    "coef.shape # Do not need reshaping as output is in (1,1) format.\n",
    "\n",
    "\n",
    "# Creating a Dataframe\n",
    "coef_df = pd.DataFrame(coef, columns = ['R&D Spend', 'Administration', 'Marketing Spend'])\n",
    "\n",
    "\n",
    "# Displayinng DataFrame\n",
    "coef_df\n"
   ]
  },
  {
   "cell_type": "markdown",
   "metadata": {},
   "source": [
    "#### Creating a function from the model and predicting"
   ]
  },
  {
   "cell_type": "code",
   "execution_count": 58,
   "metadata": {},
   "outputs": [
    {
     "name": "stdout",
     "output_type": "stream",
     "text": [
      "The predicted Profit is:  [193782.70895511]\n"
     ]
    }
   ],
   "source": [
    "# Declaring function features\n",
    "RD_Spend = 165349.2\n",
    "Administration_Spend = 136897.8\n",
    "Marketing_Spend = 471784.1\n",
    "\n",
    "# Regression Formula for pred\n",
    "# y = a + bx + ..   \n",
    "# Where y = Profit, a = intercept,  b = Coefficient for R&D Spend and x = R&D Spend\n",
    "# Prediction Calculator\n",
    "profit_prediction = (model.intercept_) + (coef_df[['R&D Spend']].values[0] * RD_Spend) + (coef_df[['Administration']].values[0] * Administration_Spend) + (coef_df[['Marketing Spend']].values[0] * Marketing_Spend) \n",
    "\n",
    "print('The predicted Profit is: ', profit_prediction)"
   ]
  },
  {
   "cell_type": "markdown",
   "metadata": {},
   "source": [
    "### 9. Deploy Model"
   ]
  }
 ],
 "metadata": {
  "kernelspec": {
   "display_name": "Python 3",
   "language": "python",
   "name": "python3"
  },
  "language_info": {
   "codemirror_mode": {
    "name": "ipython",
    "version": 3
   },
   "file_extension": ".py",
   "mimetype": "text/x-python",
   "name": "python",
   "nbconvert_exporter": "python",
   "pygments_lexer": "ipython3",
   "version": "3.8.5"
  }
 },
 "nbformat": 4,
 "nbformat_minor": 4
}
